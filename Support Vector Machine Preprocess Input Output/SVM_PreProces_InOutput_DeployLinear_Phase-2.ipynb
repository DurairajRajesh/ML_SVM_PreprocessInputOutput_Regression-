{
 "cells": [
  {
   "cell_type": "code",
   "execution_count": 74,
   "id": "4045c49e-a115-4bc2-92b6-4a37957017c2",
   "metadata": {},
   "outputs": [],
   "source": [
    "import pickle"
   ]
  },
  {
   "cell_type": "code",
   "execution_count": 76,
   "id": "55ecaa75-3ea7-4b4d-93c3-df43f9712f4b",
   "metadata": {},
   "outputs": [],
   "source": [
    "import pandas as pd"
   ]
  },
  {
   "cell_type": "code",
   "execution_count": 78,
   "id": "db159c5f-545a-409c-ab6e-21aa8243163c",
   "metadata": {},
   "outputs": [],
   "source": [
    "dataset = pd.read_csv(\"Startups_Profits.csv\")\n",
    "#dataset"
   ]
  },
  {
   "cell_type": "code",
   "execution_count": 80,
   "id": "cef6222a-6c55-4b4a-b566-8ebc9862e5a1",
   "metadata": {},
   "outputs": [],
   "source": [
    "dataset=pd.get_dummies(dataset,dtype=int,drop_first=True)\n",
    "#dataset"
   ]
  },
  {
   "cell_type": "code",
   "execution_count": 82,
   "id": "29be0a92-75ab-4a20-ab8a-e17ecc4affa5",
   "metadata": {},
   "outputs": [],
   "source": [
    "#dataset.columns"
   ]
  },
  {
   "cell_type": "code",
   "execution_count": 84,
   "id": "d4540be7-c4cf-4cba-b3e3-5159da2e0917",
   "metadata": {},
   "outputs": [],
   "source": [
    "independent=dataset[['R&D Spend', 'Administration', 'Marketing Spend', 'State_Florida', 'State_New York']]\n",
    "#independent"
   ]
  },
  {
   "cell_type": "code",
   "execution_count": 86,
   "id": "28b2b265-c242-472c-80ac-611cd00f77b6",
   "metadata": {},
   "outputs": [],
   "source": [
    "dependent=dataset[['Profit']]\n",
    "#dependent"
   ]
  },
  {
   "cell_type": "code",
   "execution_count": 88,
   "id": "5475c840-26a2-4a0a-a6b4-ca94256c00bd",
   "metadata": {},
   "outputs": [],
   "source": [
    "from sklearn.model_selection import train_test_split"
   ]
  },
  {
   "cell_type": "code",
   "execution_count": 90,
   "id": "10a6e2ef-ebee-4615-acf1-6316e54f4dba",
   "metadata": {},
   "outputs": [],
   "source": [
    "X_train, X_test, y_train, y_test = train_test_split(independent,dependent, test_size=0.30, random_state=0)\n",
    "# X_train"
   ]
  },
  {
   "cell_type": "code",
   "execution_count": 92,
   "id": "3a7223a5-01ff-4067-a2c5-0b17857c50c3",
   "metadata": {},
   "outputs": [],
   "source": [
    "from sklearn.preprocessing import StandardScaler\n",
    "sc=StandardScaler()\n",
    "X_train=sc.fit_transform(X_train) #mu and SD\n",
    "X_test=sc.transform(X_test)\n",
    "# X_test"
   ]
  },
  {
   "cell_type": "code",
   "execution_count": 94,
   "id": "68c07127-c3e6-4ab0-9a8e-cc5e6b7416f0",
   "metadata": {},
   "outputs": [],
   "source": [
    "scy=StandardScaler()\n",
    "y_train=scy.fit_transform(y_train) #mu and SD\n",
    "y_test=scy.transform(y_test)\n",
    "# y_test"
   ]
  },
  {
   "cell_type": "code",
   "execution_count": 96,
   "id": "34bf1761-7520-4b02-8d2a-ed0a863e0344",
   "metadata": {},
   "outputs": [
    {
     "name": "stderr",
     "output_type": "stream",
     "text": [
      "C:\\Anaconda\\Lib\\site-packages\\sklearn\\base.py:493: UserWarning: X does not have valid feature names, but StandardScaler was fitted with feature names\n",
      "  warnings.warn(\n"
     ]
    }
   ],
   "source": [
    "preinput=sc.transform([[1300,12000,4000,0,1]])"
   ]
  },
  {
   "cell_type": "code",
   "execution_count": 98,
   "id": "1197e835-61e6-4cad-a8c5-03fc205357df",
   "metadata": {},
   "outputs": [
    {
     "data": {
      "text/plain": [
       "array([[-1.46755405, -4.33835385, -1.50744257, -0.5       ,  1.30088727]])"
      ]
     },
     "execution_count": 98,
     "metadata": {},
     "output_type": "execute_result"
    }
   ],
   "source": [
    "preinput"
   ]
  },
  {
   "cell_type": "code",
   "execution_count": 100,
   "id": "5a69748a-75ca-4846-bf1b-e00cde446b78",
   "metadata": {},
   "outputs": [],
   "source": [
    "loaded_model = pickle.load(open(\"SVM_finalized_model.sav\", 'rb'))"
   ]
  },
  {
   "cell_type": "code",
   "execution_count": 102,
   "id": "4f12a2a9-e695-482f-9d7a-59f7031d7927",
   "metadata": {},
   "outputs": [
    {
     "name": "stdout",
     "output_type": "stream",
     "text": [
      "[-1.03109284]\n"
     ]
    }
   ],
   "source": [
    "result = loaded_model.predict(preinput)\n",
    "print(result)"
   ]
  },
  {
   "cell_type": "code",
   "execution_count": 104,
   "id": "d89920f6-8f88-402e-9ca3-2399556605c3",
   "metadata": {},
   "outputs": [
    {
     "data": {
      "text/plain": [
       "array([[65875.16964031]])"
      ]
     },
     "execution_count": 104,
     "metadata": {},
     "output_type": "execute_result"
    }
   ],
   "source": [
    "preoutput=scy.inverse_transform([result])\n",
    "preoutput"
   ]
  },
  {
   "cell_type": "code",
   "execution_count": 116,
   "id": "ec071af3-61b1-4521-a469-f6caab55b678",
   "metadata": {},
   "outputs": [
    {
     "name": "stdin",
     "output_type": "stream",
     "text": [
      "Enter the Prediction R&D Spend value 45768768\n",
      "Enter the Prediction Administration value 8799997\n",
      "Enter the Prediction Marketing Spend value 786878\n",
      "Enter the Prediction State_Florida value 678688\n",
      "Enter the Prediction State_NewYork value 6786899\n"
     ]
    },
    {
     "name": "stdout",
     "output_type": "stream",
     "text": [
      "Prediction=[-0.18199713]\n"
     ]
    }
   ],
   "source": [
    "predication_input_RnD_Spend=int(input(\"Enter the Prediction R&D Spend value\"))\n",
    "predication_input_Administration=int(input(\"Enter the Prediction Administration value\"))\n",
    "predication_input_Marketing_Spend=int(input(\"Enter the Prediction Marketing Spend value\"))\n",
    "predication_input_State_Florida=int(input(\"Enter the Prediction State_Florida value\"))\n",
    "predication_input_State_NewYork=int(input(\"Enter the Prediction State_NewYork value\"))\n",
    "Future_Preditcion = load_model.predict([[predication_input_RnD_Spend, predication_input_Administration, predication_input_Marketing_Spend, predication_input_State_Florida, predication_input_State_NewYork]])\n",
    "print(\"Prediction={}\".format(Future_Preditcion))"
   ]
  },
  {
   "cell_type": "code",
   "execution_count": 118,
   "id": "f37d7333-372b-41f6-a6b8-aef7ab1e6218",
   "metadata": {},
   "outputs": [
    {
     "data": {
      "text/plain": [
       "array([[102397.12146988]])"
      ]
     },
     "execution_count": 118,
     "metadata": {},
     "output_type": "execute_result"
    }
   ],
   "source": [
    "preoutput=scy.inverse_transform([Future_Preditcion])\n",
    "preoutput"
   ]
  },
  {
   "cell_type": "code",
   "execution_count": null,
   "id": "de7d70be-4a32-45a7-b7e9-83ec85ff3fac",
   "metadata": {},
   "outputs": [],
   "source": []
  }
 ],
 "metadata": {
  "kernelspec": {
   "display_name": "Python 3 (ipykernel)",
   "language": "python",
   "name": "python3"
  },
  "language_info": {
   "codemirror_mode": {
    "name": "ipython",
    "version": 3
   },
   "file_extension": ".py",
   "mimetype": "text/x-python",
   "name": "python",
   "nbconvert_exporter": "python",
   "pygments_lexer": "ipython3",
   "version": "3.12.4"
  }
 },
 "nbformat": 4,
 "nbformat_minor": 5
}
